{
 "cells": [
  {
   "cell_type": "code",
   "execution_count": 1,
   "id": "643413ee-c991-4c72-9256-0f064bdbd093",
   "metadata": {},
   "outputs": [
    {
     "name": "stdout",
     "output_type": "stream",
     "text": [
      "Original List: [3, 5, 6, 8, 5]\n",
      "Updated list: [3, 4, 'bow', 8, 5, 10]\n"
     ]
    }
   ],
   "source": [
    "#list\n",
    "#creating a list\n",
    "my_list = [3,5,6,8,5]\n",
    "print(\"Original List:\", my_list)\n",
    "\n",
    "#adding an element to the list\n",
    "my_list.append(10)\n",
    "\n",
    "#removing an element in the list\n",
    "my_list.remove(6)\n",
    "\n",
    "#modifying an element in the list\n",
    "my_list[1] = 4\n",
    "\n",
    "#inserting an element in the list\n",
    "my_list.insert(2,\"bow\")\n",
    "\n",
    "print(\"Updated list:\",my_list)\n"
   ]
  },
  {
   "cell_type": "code",
   "execution_count": 2,
   "id": "7f438c77-2590-48b4-ab69-c6683e544d05",
   "metadata": {},
   "outputs": [
    {
     "name": "stdout",
     "output_type": "stream",
     "text": [
      "Original Dictionary: {'name': 'kaneki', 'age': 24, 'city': 'tokyo'}\n",
      "Updated Dictionary: {'name': 'kaneki', 'city': 'Osaka', 'gender': 'Male'}\n"
     ]
    }
   ],
   "source": [
    "#dictionary\n",
    "\n",
    "#creating a dictionary\n",
    "my_dict = {'name': 'kaneki', 'age': 24, 'city': 'tokyo'}\n",
    "print(\"Original Dictionary:\", my_dict)\n",
    "\n",
    "#adding an element\n",
    "my_dict['gender'] = 'Male'\n",
    "\n",
    "#removing an element\n",
    "del my_dict['age']\n",
    "\n",
    "#modifying the dictionary\n",
    "my_dict['city'] = 'Osaka'\n",
    "\n",
    "print(\"Updated Dictionary:\",my_dict)\n"
   ]
  },
  {
   "cell_type": "code",
   "execution_count": 3,
   "id": "e3679b73-71bf-4f94-bd55-14b809481a8e",
   "metadata": {},
   "outputs": [
    {
     "name": "stdout",
     "output_type": "stream",
     "text": [
      "Original Tuple : (15, 24, 31, 42, 57)\n",
      "Updated Tuple : (15, 24, 35, 57, 65)\n"
     ]
    }
   ],
   "source": [
    "#tuple\n",
    "\n",
    "#creating a tuple\n",
    "original_tuple = (15,24,31,42,57)\n",
    "print(\"Original Tuple :\", original_tuple)\n",
    "\n",
    "#adding a new element to the tuple\n",
    "new_element = 65\n",
    "updated_tuple =original_tuple + (65,)\n",
    "\n",
    "#removing an element in the tuple\n",
    "updated_tuple = updated_tuple[:2] + updated_tuple[3:]\n",
    "\n",
    "#modifying an element in the tuple\n",
    "modified_element = 35\n",
    "updated_tuple = updated_tuple[:2] + (modified_element,) + updated_tuple[3:]\n",
    "\n",
    "print(\"Updated Tuple :\", updated_tuple)"
   ]
  },
  {
   "cell_type": "code",
   "execution_count": null,
   "id": "ad53ba72-9f70-45ce-8189-d391c7c3b8fd",
   "metadata": {},
   "outputs": [],
   "source": []
  }
 ],
 "metadata": {
  "kernelspec": {
   "display_name": "Python 3 (ipykernel)",
   "language": "python",
   "name": "python3"
  },
  "language_info": {
   "codemirror_mode": {
    "name": "ipython",
    "version": 3
   },
   "file_extension": ".py",
   "mimetype": "text/x-python",
   "name": "python",
   "nbconvert_exporter": "python",
   "pygments_lexer": "ipython3",
   "version": "3.12.4"
  }
 },
 "nbformat": 4,
 "nbformat_minor": 5
}
